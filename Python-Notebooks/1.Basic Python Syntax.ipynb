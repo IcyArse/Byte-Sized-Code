{
 "cells": [
  {
   "cell_type": "markdown",
   "metadata": {},
   "source": [
    "# Basic Python Syntax\n",
    "\n",
    "**By Arpit Omprakash, Byte Sized Code**"
   ]
  },
  {
   "cell_type": "markdown",
   "metadata": {},
   "source": [
    "### Basic Data Types \n",
    "\n",
    "While programming, we work with data, and data comes in all kinds of flavours and *types*.  \n",
    "There are a few basic data types in python that are used to store and manipulate any kind of data that we want to work with.\n",
    "\n",
    "Python supports the following basic (a.k.a primitive) data types:  \n",
    "- string:\n",
    "  - used to store characters\n",
    "  - always enclosed in quote marks (\" or ')\n",
    "  - denoted as `str`\n",
    "- integer:\n",
    "  - used to store integers (numbers without a fractional part)\n",
    "  - can be positive or negative\n",
    "  - denoted as `int`\n",
    "- float:\n",
    "  - used to store real numbers\n",
    "  - denoted by `float`\n",
    "- boolean:\n",
    "  - used to store a True/False value\n",
    "  - denoted by `bool`\n",
    "  \n",
    "We can use the inbuilt `type` function (more on functions later) to get the datatype of a given chunk of data. "
   ]
  },
  {
   "cell_type": "code",
   "execution_count": 129,
   "metadata": {},
   "outputs": [
    {
     "name": "stdout",
     "output_type": "stream",
     "text": [
      "<class 'str'>\n"
     ]
    }
   ],
   "source": [
    "print(type(\"name\"))"
   ]
  },
  {
   "cell_type": "code",
   "execution_count": 130,
   "metadata": {},
   "outputs": [
    {
     "name": "stdout",
     "output_type": "stream",
     "text": [
      "<class 'int'>\n"
     ]
    }
   ],
   "source": [
    "print(type(2))"
   ]
  },
  {
   "cell_type": "code",
   "execution_count": 131,
   "metadata": {},
   "outputs": [
    {
     "name": "stdout",
     "output_type": "stream",
     "text": [
      "<class 'float'>\n"
     ]
    }
   ],
   "source": [
    "print(type(8.3))"
   ]
  },
  {
   "cell_type": "code",
   "execution_count": 132,
   "metadata": {},
   "outputs": [
    {
     "name": "stdout",
     "output_type": "stream",
     "text": [
      "<class 'bool'>\n"
     ]
    }
   ],
   "source": [
    "print(type(True))"
   ]
  },
  {
   "cell_type": "markdown",
   "metadata": {},
   "source": [
    "### Operators\n",
    "\n",
    "Now that we know how to store data using the appropriate types, we would eventually like to manipulate the data.  \n",
    "Python provides many operators that can be used to manipulate data.  \n",
    "Here are the most commonly used operators in python:"
   ]
  },
  {
   "cell_type": "markdown",
   "metadata": {},
   "source": [
    "\\\"+\"  addition operator\n",
    "- used to add two values"
   ]
  },
  {
   "cell_type": "code",
   "execution_count": 133,
   "metadata": {},
   "outputs": [
    {
     "name": "stdout",
     "output_type": "stream",
     "text": [
      "6\n"
     ]
    }
   ],
   "source": [
    "print(2 + 4)"
   ]
  },
  {
   "cell_type": "markdown",
   "metadata": {},
   "source": [
    "\"/\" division operator\n",
    "- used to divide one value by the other"
   ]
  },
  {
   "cell_type": "code",
   "execution_count": 134,
   "metadata": {},
   "outputs": [
    {
     "name": "stdout",
     "output_type": "stream",
     "text": [
      "1.5\n"
     ]
    }
   ],
   "source": [
    "print(3.0 / 2.0)"
   ]
  },
  {
   "cell_type": "markdown",
   "metadata": {},
   "source": [
    "\"\\*\" multiplication operator\n",
    "- used to multiply two values"
   ]
  },
  {
   "cell_type": "code",
   "execution_count": 135,
   "metadata": {},
   "outputs": [
    {
     "name": "stdout",
     "output_type": "stream",
     "text": [
      "20\n"
     ]
    }
   ],
   "source": [
    "print(10 * 2)"
   ]
  },
  {
   "cell_type": "markdown",
   "metadata": {},
   "source": [
    "\"-\" subtraction operator\n",
    "- used to subtract one value from another"
   ]
  },
  {
   "cell_type": "code",
   "execution_count": 136,
   "metadata": {},
   "outputs": [
    {
     "name": "stdout",
     "output_type": "stream",
     "text": [
      "2\n"
     ]
    }
   ],
   "source": [
    "print(3 - 1)"
   ]
  },
  {
   "cell_type": "markdown",
   "metadata": {},
   "source": [
    "\"%\" modulo operator\n",
    "- returns the remainder of a division between the two values"
   ]
  },
  {
   "cell_type": "code",
   "execution_count": 137,
   "metadata": {},
   "outputs": [
    {
     "name": "stdout",
     "output_type": "stream",
     "text": [
      "0\n"
     ]
    }
   ],
   "source": [
    "print(25 % 5)"
   ]
  },
  {
   "cell_type": "markdown",
   "metadata": {},
   "source": [
    "\"\\*\\*\" exponentiation operator\n",
    "- raises the first number to the power of the second number"
   ]
  },
  {
   "cell_type": "code",
   "execution_count": 138,
   "metadata": {},
   "outputs": [
    {
     "name": "stdout",
     "output_type": "stream",
     "text": [
      "32\n"
     ]
    }
   ],
   "source": [
    "print(2 ** 5)"
   ]
  },
  {
   "cell_type": "markdown",
   "metadata": {},
   "source": [
    "\"//\" floor division operator\n",
    "- returns the quotient of the division of the two numbers"
   ]
  },
  {
   "cell_type": "code",
   "execution_count": 139,
   "metadata": {},
   "outputs": [
    {
     "name": "stdout",
     "output_type": "stream",
     "text": [
      "11\n"
     ]
    }
   ],
   "source": [
    "print(34 // 3)"
   ]
  },
  {
   "cell_type": "markdown",
   "metadata": {},
   "source": [
    "**Operators and strings**\n",
    "\n",
    "A few operators can also be used with strings.  \n",
    "- the addition operator concatenates two strings to form a bigger string\n",
    "- the multiplication operator repeats a string n times (where n is the other operant)"
   ]
  },
  {
   "cell_type": "code",
   "execution_count": 140,
   "metadata": {},
   "outputs": [
    {
     "name": "stdout",
     "output_type": "stream",
     "text": [
      "hello world\n"
     ]
    }
   ],
   "source": [
    "print(\"hello \" + \"world\")"
   ]
  },
  {
   "cell_type": "code",
   "execution_count": 141,
   "metadata": {},
   "outputs": [
    {
     "name": "stdout",
     "output_type": "stream",
     "text": [
      "hellohellohello\n"
     ]
    }
   ],
   "source": [
    "print(\"hello\" * 3)"
   ]
  },
  {
   "cell_type": "markdown",
   "metadata": {},
   "source": [
    "**NOTE:** It should be noted that operators only work with the same data type. For example, we cannot add an integer to a string."
   ]
  },
  {
   "cell_type": "code",
   "execution_count": 142,
   "metadata": {},
   "outputs": [
    {
     "ename": "TypeError",
     "evalue": "can only concatenate str (not \"int\") to str",
     "output_type": "error",
     "traceback": [
      "\u001b[1;31m---------------------------------------------------------------------------\u001b[0m",
      "\u001b[1;31mTypeError\u001b[0m                                 Traceback (most recent call last)",
      "\u001b[1;32m<ipython-input-142-6ffef5eefcb1>\u001b[0m in \u001b[0;36m<module>\u001b[1;34m\u001b[0m\n\u001b[1;32m----> 1\u001b[1;33m \u001b[0mprint\u001b[0m\u001b[1;33m(\u001b[0m\u001b[1;34m\"hello \"\u001b[0m \u001b[1;33m+\u001b[0m \u001b[1;36m2\u001b[0m\u001b[1;33m)\u001b[0m\u001b[1;33m\u001b[0m\u001b[1;33m\u001b[0m\u001b[0m\n\u001b[0m",
      "\u001b[1;31mTypeError\u001b[0m: can only concatenate str (not \"int\") to str"
     ]
    }
   ],
   "source": [
    "print(\"hello \" + 2)"
   ]
  },
  {
   "cell_type": "markdown",
   "metadata": {},
   "source": [
    "### Type conversions\n",
    "\n",
    "As mentioned above, we can't mix data types while operating on them. This is a half truth.  \n",
    "We can mix some operators to a certain level. For example:"
   ]
  },
  {
   "cell_type": "code",
   "execution_count": 143,
   "metadata": {},
   "outputs": [
    {
     "name": "stdout",
     "output_type": "stream",
     "text": [
      "4.0\n"
     ]
    }
   ],
   "source": [
    "print(2 + 2.0)"
   ]
  },
  {
   "cell_type": "markdown",
   "metadata": {},
   "source": [
    "Here we added an integer to a float and we didn't get an error!  \n",
    "\n",
    "What happened here you ask?  \n",
    "Something called an **implicit type conversion**.  \n",
    "As floats can also contain integer values, Python converts the integer data type to a float data type before carrying out the addition. This can be noted from the fact that the result of the operation is a float."
   ]
  },
  {
   "cell_type": "code",
   "execution_count": 144,
   "metadata": {},
   "outputs": [
    {
     "name": "stdout",
     "output_type": "stream",
     "text": [
      "<class 'float'>\n"
     ]
    }
   ],
   "source": [
    "result = 2 + 2.0\n",
    "print(type(result))"
   ]
  },
  {
   "cell_type": "markdown",
   "metadata": {},
   "source": [
    "However, for some data types, Python does not allow implicit conversion.  \n",
    "We can however still convert the data (if need arises) by an **explicit type conversion** syntax/function.  \n",
    "This can be seen in the following example."
   ]
  },
  {
   "cell_type": "code",
   "execution_count": 145,
   "metadata": {},
   "outputs": [
    {
     "ename": "TypeError",
     "evalue": "can only concatenate str (not \"int\") to str",
     "output_type": "error",
     "traceback": [
      "\u001b[1;31m---------------------------------------------------------------------------\u001b[0m",
      "\u001b[1;31mTypeError\u001b[0m                                 Traceback (most recent call last)",
      "\u001b[1;32m<ipython-input-145-ceb4deb5301a>\u001b[0m in \u001b[0;36m<module>\u001b[1;34m\u001b[0m\n\u001b[1;32m----> 1\u001b[1;33m \u001b[0mprint\u001b[0m\u001b[1;33m(\u001b[0m\u001b[1;34m\"number \"\u001b[0m \u001b[1;33m+\u001b[0m \u001b[1;36m23\u001b[0m\u001b[1;33m)\u001b[0m\u001b[1;33m\u001b[0m\u001b[1;33m\u001b[0m\u001b[0m\n\u001b[0m",
      "\u001b[1;31mTypeError\u001b[0m: can only concatenate str (not \"int\") to str"
     ]
    }
   ],
   "source": [
    "print(\"number \" + 23)"
   ]
  },
  {
   "cell_type": "code",
   "execution_count": 146,
   "metadata": {},
   "outputs": [
    {
     "name": "stdout",
     "output_type": "stream",
     "text": [
      "number 23\n"
     ]
    }
   ],
   "source": [
    "print(\"number \" + str(23))"
   ]
  },
  {
   "cell_type": "markdown",
   "metadata": {},
   "source": [
    "The `str` function converts a given data type to string data type."
   ]
  },
  {
   "cell_type": "markdown",
   "metadata": {},
   "source": [
    "### Variables\n",
    "\n",
    "It is very likely that any program that you will write will have some values that will change over time or even over the course of your whole program (or script).  \n",
    "We can store such values in variables.  \n",
    "You can think of variables as containers to store data.\n",
    "\n",
    "Values are *assigned* to variables via an assignment operator (like =).\n",
    "\n",
    "In the following example, we have created two variables called `length` and `breadth`.  \n",
    "We can store different values in the variables and then later use them to carry out other functions or operations without even knowing what exact value the variable contains!"
   ]
  },
  {
   "cell_type": "code",
   "execution_count": 147,
   "metadata": {},
   "outputs": [
    {
     "name": "stdout",
     "output_type": "stream",
     "text": [
      "200\n"
     ]
    }
   ],
   "source": [
    "length = 10\n",
    "breadth = 20\n",
    "area = length * breadth\n",
    "print(area)"
   ]
  },
  {
   "cell_type": "markdown",
   "metadata": {},
   "source": [
    "Now lets change the value of the `breadth` variable and calculate the area again."
   ]
  },
  {
   "cell_type": "code",
   "execution_count": 148,
   "metadata": {},
   "outputs": [
    {
     "name": "stdout",
     "output_type": "stream",
     "text": [
      "100\n"
     ]
    }
   ],
   "source": [
    "breadth = 10\n",
    "area = length * breadth\n",
    "print(area)"
   ]
  },
  {
   "cell_type": "markdown",
   "metadata": {},
   "source": [
    "**NOTE: Variable Nomenclature**\n",
    "\n",
    "There are certain restrictions that are applied while creating variables in python:  \n",
    "- we can't use keywords or built-in function names as variable names, e.g., `print`, `int` and `str` are not valid variable names.\n",
    "- variable names can't contain spaces, e.g., `new variable` is not valid\n",
    "- variable names should start with letters or underscores, e.g., `my_var` or `_var` are valid\n",
    "- variable names can contain only numbers, letters, or underscores, e.g., `_my_var_1` is a valid name"
   ]
  },
  {
   "cell_type": "markdown",
   "metadata": {},
   "source": [
    "### Functions\n",
    "\n",
    "In the previous section we have mentioned and used certain functions like `str()`, `type()` and `print()`.  \n",
    "But what exactly are functions?  \n",
    "Functions are snippets of code that can be called upon to carry out specific tasks.  \n",
    "In the following example, we create a `show()` function that prints or \"shows\" a predefined greeting to us."
   ]
  },
  {
   "cell_type": "code",
   "execution_count": 149,
   "metadata": {},
   "outputs": [],
   "source": [
    "def show():\n",
    "    print(\"Welcome humanling!\")"
   ]
  },
  {
   "cell_type": "markdown",
   "metadata": {},
   "source": [
    "Note the syntax while creating (also called defining) a function.  \n",
    "The function starts with a `def` keyword followed by the name and a parentheses.  \n",
    "The first line must end with a colon (:) to indicate that it is a special kind of python statement.  \n",
    "The next part of the code contains all the instructions for the function. These are indented to indicated that the instructions belong to the defined function. Remember, **whitespace and indentation is critical in python**.\n",
    "\n",
    "We covered all the steps for creating a function, then why doesn't it print anything?  \n",
    "We need to call a function to make it work. The following cell calls the `show` function we defined above."
   ]
  },
  {
   "cell_type": "code",
   "execution_count": 150,
   "metadata": {},
   "outputs": [
    {
     "name": "stdout",
     "output_type": "stream",
     "text": [
      "Welcome humanling!\n"
     ]
    }
   ],
   "source": [
    "show()"
   ]
  },
  {
   "cell_type": "markdown",
   "metadata": {},
   "source": [
    "Now we get the output!\n",
    "\n",
    "Functions can even take some parameters (or arguments) to carry out more specific tasks.  \n",
    "Parameters are defined by writing variables for the parameters inside the parenthesis while defining a function.  \n",
    "For example, the following function takes in a string called `name` as an argument and then prints a specialized greeting."
   ]
  },
  {
   "cell_type": "code",
   "execution_count": 151,
   "metadata": {},
   "outputs": [],
   "source": [
    "def greet(name):\n",
    "    print(\"Welcome \"+ name + \"!\")"
   ]
  },
  {
   "cell_type": "code",
   "execution_count": 152,
   "metadata": {},
   "outputs": [
    {
     "name": "stdout",
     "output_type": "stream",
     "text": [
      "Welcome Arpit!\n"
     ]
    }
   ],
   "source": [
    "greet(\"Arpit\")"
   ]
  },
  {
   "cell_type": "markdown",
   "metadata": {},
   "source": [
    "To make things more interesting, functions can take in more than one argument at a time."
   ]
  },
  {
   "cell_type": "code",
   "execution_count": 153,
   "metadata": {},
   "outputs": [],
   "source": [
    "def greeting(name, department):\n",
    "    print(\"Welcome \" + name + \"!\")\n",
    "    print(\"You are a part of the \" + department + \" department.\")"
   ]
  },
  {
   "cell_type": "code",
   "execution_count": 154,
   "metadata": {},
   "outputs": [
    {
     "name": "stdout",
     "output_type": "stream",
     "text": [
      "Welcome Tom!\n",
      "You are a part of the accounting department.\n"
     ]
    }
   ],
   "source": [
    "greeting(\"Tom\", \"accounting\")"
   ]
  },
  {
   "cell_type": "markdown",
   "metadata": {},
   "source": [
    "Up until now we have just printed statements from our functions, but we can do so much more!  \n",
    "We give values to a function by providing arguments. But how do we get values back from a function?  \n",
    "We use what are called `return` statements.  \n",
    "A `return` statement returns values from a function.\n",
    "\n",
    "Earlier we used the breadth and length to calculate area of a rectangle. Do you recall we had to repeat the `area = length * breadth` to calculate area again after changing the value of breadth. Doing this for each change is a cumbersome task.  \n",
    "Now we have enough knowledge to create a basic function that will calculate the area for us if we provide a length and breadth value to it."
   ]
  },
  {
   "cell_type": "code",
   "execution_count": 155,
   "metadata": {},
   "outputs": [],
   "source": [
    "def area(length, breadth):\n",
    "    return length * breadth"
   ]
  },
  {
   "cell_type": "code",
   "execution_count": 156,
   "metadata": {},
   "outputs": [
    {
     "name": "stdout",
     "output_type": "stream",
     "text": [
      "200\n"
     ]
    }
   ],
   "source": [
    "result = area(10, 20)\n",
    "print(result)"
   ]
  },
  {
   "cell_type": "markdown",
   "metadata": {},
   "source": [
    "We can create even more helpful and complex functions by using what knowledge we have gained till now.  \n",
    "This is the perfect time for you to take a step back and think about one thing that you can write a function for.\n",
    "\n",
    "Here is an example to get you started. It converts seconds to hours, minutes, and seconds."
   ]
  },
  {
   "cell_type": "code",
   "execution_count": 157,
   "metadata": {},
   "outputs": [],
   "source": [
    "def convert_seconds(seconds):\n",
    "    hours = seconds // 3600\n",
    "    minutes = (seconds - hours * 3600) // 60\n",
    "    remaining_seconds = seconds - hours * 3600 - minutes * 60\n",
    "    return hours, minutes, remaining_seconds"
   ]
  },
  {
   "cell_type": "code",
   "execution_count": 158,
   "metadata": {},
   "outputs": [
    {
     "name": "stdout",
     "output_type": "stream",
     "text": [
      "1 0 0\n"
     ]
    }
   ],
   "source": [
    "h, m, s = convert_seconds(3600)\n",
    "print(h, m, s)"
   ]
  },
  {
   "cell_type": "markdown",
   "metadata": {},
   "source": [
    "### Comparators\n",
    "\n",
    "In python we use what are called comparators to compare data.  \n",
    "The following comparators are generally used in python:\n",
    "- \\> to check if the left hand side is **greater than** the right hand side\n",
    "- \\< to check if the left hand side is **lesser than** the right hand side\n",
    "- \\>= to check if the left hand side is **greater than or equal** to the right hand side\n",
    "- \\<= to check if the left hand side is **lesser than or equal** to the right hand side\n",
    "- == to check if the left hand side is **equal** to the right hand side\n",
    "- != to check if the left hand side is **not equal** to the right hand side\n",
    "\n",
    "The comparators return a boolean value (True/False) indicating if the expression is valid or not."
   ]
  },
  {
   "cell_type": "code",
   "execution_count": 159,
   "metadata": {},
   "outputs": [
    {
     "name": "stdout",
     "output_type": "stream",
     "text": [
      "False\n"
     ]
    }
   ],
   "source": [
    "print(18 < 10)"
   ]
  },
  {
   "cell_type": "code",
   "execution_count": 160,
   "metadata": {},
   "outputs": [
    {
     "name": "stdout",
     "output_type": "stream",
     "text": [
      "True\n"
     ]
    }
   ],
   "source": [
    "print(10 > 1)"
   ]
  },
  {
   "cell_type": "code",
   "execution_count": 161,
   "metadata": {},
   "outputs": [
    {
     "name": "stdout",
     "output_type": "stream",
     "text": [
      "True\n"
     ]
    }
   ],
   "source": [
    "print((10/2) == 5)"
   ]
  },
  {
   "cell_type": "code",
   "execution_count": 162,
   "metadata": {},
   "outputs": [
    {
     "name": "stdout",
     "output_type": "stream",
     "text": [
      "True\n"
     ]
    }
   ],
   "source": [
    "print(1 != 2)"
   ]
  },
  {
   "cell_type": "code",
   "execution_count": 163,
   "metadata": {},
   "outputs": [
    {
     "name": "stdout",
     "output_type": "stream",
     "text": [
      "True\n"
     ]
    }
   ],
   "source": [
    "print(1.0 <= 1.1)"
   ]
  },
  {
   "cell_type": "code",
   "execution_count": 164,
   "metadata": {},
   "outputs": [
    {
     "name": "stdout",
     "output_type": "stream",
     "text": [
      "False\n"
     ]
    }
   ],
   "source": [
    "print(2.0 >= 3.0)"
   ]
  },
  {
   "cell_type": "markdown",
   "metadata": {},
   "source": [
    "The above examples were quite simple and basically used numbers (integers or floats).  \n",
    "We can also use some comparators with strings to check if they are greater than or less than other strings. In the context of strings, a string is said to be less than another one if it comes first in the dictionary and vice versa."
   ]
  },
  {
   "cell_type": "code",
   "execution_count": 165,
   "metadata": {},
   "outputs": [
    {
     "name": "stdout",
     "output_type": "stream",
     "text": [
      "True\n"
     ]
    }
   ],
   "source": [
    "print(\"AA\" < \"AB\")"
   ]
  },
  {
   "cell_type": "code",
   "execution_count": 166,
   "metadata": {
    "scrolled": true
   },
   "outputs": [
    {
     "name": "stdout",
     "output_type": "stream",
     "text": [
      "False\n"
     ]
    }
   ],
   "source": [
    "print(\"bz\" > \"za\")"
   ]
  },
  {
   "cell_type": "markdown",
   "metadata": {},
   "source": [
    "We can't use the less than and greater than comparators between strings and numbers."
   ]
  },
  {
   "cell_type": "code",
   "execution_count": 167,
   "metadata": {},
   "outputs": [
    {
     "ename": "TypeError",
     "evalue": "'<' not supported between instances of 'int' and 'str'",
     "output_type": "error",
     "traceback": [
      "\u001b[1;31m---------------------------------------------------------------------------\u001b[0m",
      "\u001b[1;31mTypeError\u001b[0m                                 Traceback (most recent call last)",
      "\u001b[1;32m<ipython-input-167-abaff9560954>\u001b[0m in \u001b[0;36m<module>\u001b[1;34m\u001b[0m\n\u001b[1;32m----> 1\u001b[1;33m \u001b[0mprint\u001b[0m\u001b[1;33m(\u001b[0m\u001b[1;36m1\u001b[0m \u001b[1;33m<\u001b[0m \u001b[1;34m\"10\"\u001b[0m\u001b[1;33m)\u001b[0m\u001b[1;33m\u001b[0m\u001b[1;33m\u001b[0m\u001b[0m\n\u001b[0m",
      "\u001b[1;31mTypeError\u001b[0m: '<' not supported between instances of 'int' and 'str'"
     ]
    }
   ],
   "source": [
    "print(1 < \"10\")"
   ]
  },
  {
   "cell_type": "code",
   "execution_count": 168,
   "metadata": {},
   "outputs": [
    {
     "ename": "TypeError",
     "evalue": "'>' not supported between instances of 'str' and 'int'",
     "output_type": "error",
     "traceback": [
      "\u001b[1;31m---------------------------------------------------------------------------\u001b[0m",
      "\u001b[1;31mTypeError\u001b[0m                                 Traceback (most recent call last)",
      "\u001b[1;32m<ipython-input-168-c6396593dc76>\u001b[0m in \u001b[0;36m<module>\u001b[1;34m\u001b[0m\n\u001b[1;32m----> 1\u001b[1;33m \u001b[0mprint\u001b[0m\u001b[1;33m(\u001b[0m\u001b[1;34m\"10\"\u001b[0m \u001b[1;33m>\u001b[0m \u001b[1;36m1\u001b[0m\u001b[1;33m)\u001b[0m\u001b[1;33m\u001b[0m\u001b[1;33m\u001b[0m\u001b[0m\n\u001b[0m",
      "\u001b[1;31mTypeError\u001b[0m: '>' not supported between instances of 'str' and 'int'"
     ]
    }
   ],
   "source": [
    "print(\"10\" > 1)"
   ]
  },
  {
   "cell_type": "markdown",
   "metadata": {},
   "source": [
    "We can also use the equal and not equal comparators between two strings, and a string and number. The latter case will always return False as a string can never be equal to a number data type in python."
   ]
  },
  {
   "cell_type": "code",
   "execution_count": 169,
   "metadata": {},
   "outputs": [
    {
     "name": "stdout",
     "output_type": "stream",
     "text": [
      "True\n"
     ]
    }
   ],
   "source": [
    "print(\"cat\" == \"cat\")"
   ]
  },
  {
   "cell_type": "code",
   "execution_count": 170,
   "metadata": {},
   "outputs": [
    {
     "name": "stdout",
     "output_type": "stream",
     "text": [
      "True\n"
     ]
    }
   ],
   "source": [
    "print(\"cat\" != \"dog\")"
   ]
  },
  {
   "cell_type": "code",
   "execution_count": 171,
   "metadata": {},
   "outputs": [
    {
     "name": "stdout",
     "output_type": "stream",
     "text": [
      "False\n"
     ]
    }
   ],
   "source": [
    "print(1 == \"1\")"
   ]
  },
  {
   "cell_type": "markdown",
   "metadata": {},
   "source": [
    "### Logical operators\n",
    "\n",
    "We can use logical operators to combine simple expressions into complex expressions.  \n",
    "There are three basic logical operators:\n",
    "- and = returns true if both the expressions are valid\n",
    "- or = returns true if at least one expression is valid\n",
    "- not = returns true if the expression is invalid and false if it is valid"
   ]
  },
  {
   "cell_type": "code",
   "execution_count": 172,
   "metadata": {},
   "outputs": [
    {
     "name": "stdout",
     "output_type": "stream",
     "text": [
      "False\n"
     ]
    }
   ],
   "source": [
    "print(1 == 10 and 2 != 3)"
   ]
  },
  {
   "cell_type": "code",
   "execution_count": 173,
   "metadata": {},
   "outputs": [
    {
     "name": "stdout",
     "output_type": "stream",
     "text": [
      "True\n"
     ]
    }
   ],
   "source": [
    "print(1 == 10 or 2 != 3)"
   ]
  },
  {
   "cell_type": "code",
   "execution_count": 174,
   "metadata": {},
   "outputs": [
    {
     "name": "stdout",
     "output_type": "stream",
     "text": [
      "False\n"
     ]
    }
   ],
   "source": [
    "print(not 42 == 42)"
   ]
  },
  {
   "cell_type": "markdown",
   "metadata": {},
   "source": [
    "### Branching with IF statements\n",
    "\n",
    "Now that we know about comparators and booleans, we can construct something called branches.  \n",
    "A branch in a program is basically a point where we can evaluate a certain condition and proceed based on how the condition evaluates.\n",
    "\n",
    "We use \"if\" statements in python to create branches.  \n",
    "These work like they do in real life.  \n",
    "``` \n",
    "if condition is true:\n",
    "        do something\n",
    "```\n",
    "That is also basically how we define an if statement. The following example will make things clear.  \n",
    "\n",
    "Suppose we want to **create a function that takes in a username as input and returns a string indicating if the username is valid or invalid**.\n",
    "\n",
    "We declare a username to be invalid if it is shorter than 3 letters.  \n",
    "We can use the built-in `len()` function to get the length of a string."
   ]
  },
  {
   "cell_type": "code",
   "execution_count": 175,
   "metadata": {},
   "outputs": [],
   "source": [
    "def valid_username(username):\n",
    "    if len(username) < 3:\n",
    "        return \"The username should be longer than 3 letters!\""
   ]
  },
  {
   "cell_type": "code",
   "execution_count": 176,
   "metadata": {},
   "outputs": [
    {
     "name": "stdout",
     "output_type": "stream",
     "text": [
      "The username should be longer than 3 letters!\n"
     ]
    }
   ],
   "source": [
    "print(valid_username(\"ok\"))"
   ]
  },
  {
   "cell_type": "code",
   "execution_count": 177,
   "metadata": {},
   "outputs": [
    {
     "name": "stdout",
     "output_type": "stream",
     "text": [
      "None\n"
     ]
    }
   ],
   "source": [
    "print(valid_username(\"good\"))"
   ]
  },
  {
   "cell_type": "code",
   "execution_count": 178,
   "metadata": {},
   "outputs": [
    {
     "name": "stdout",
     "output_type": "stream",
     "text": [
      "None\n"
     ]
    }
   ],
   "source": [
    "print(valid_username(\"terminator\"))"
   ]
  },
  {
   "cell_type": "markdown",
   "metadata": {},
   "source": [
    "Here you should note that, since our if statement doesn't execute in the last two cases, the return statement is not reached. Thus the function returns the `None` value indicating that there was nothing to return.  \n",
    "That is a weird behaviour. Getting `None` when you type in a valid username doesn't seem so good.  \n",
    "\n",
    "What can we do about it?  \n",
    "We can extend our `if` statement with an `else` block. The else block executes only when the `if` condition is declared as `False`."
   ]
  },
  {
   "cell_type": "code",
   "execution_count": 179,
   "metadata": {},
   "outputs": [],
   "source": [
    "def valid_username(username):\n",
    "    if len(username) < 3:\n",
    "        return \"The username should be longer than 3 letters!\"\n",
    "    else:\n",
    "        return \"Valid username\""
   ]
  },
  {
   "cell_type": "code",
   "execution_count": 180,
   "metadata": {},
   "outputs": [
    {
     "name": "stdout",
     "output_type": "stream",
     "text": [
      "The username should be longer than 3 letters!\n"
     ]
    }
   ],
   "source": [
    "print(valid_username(\"ok\"))"
   ]
  },
  {
   "cell_type": "code",
   "execution_count": 181,
   "metadata": {},
   "outputs": [
    {
     "name": "stdout",
     "output_type": "stream",
     "text": [
      "Valid username\n"
     ]
    }
   ],
   "source": [
    "print(valid_username(\"good\"))"
   ]
  },
  {
   "cell_type": "code",
   "execution_count": 182,
   "metadata": {
    "scrolled": true
   },
   "outputs": [
    {
     "name": "stdout",
     "output_type": "stream",
     "text": [
      "Valid username\n"
     ]
    }
   ],
   "source": [
    "print(valid_username(\"terminator\"))"
   ]
  },
  {
   "cell_type": "markdown",
   "metadata": {},
   "source": [
    "What if we want to add a new condition. As longer usernames tend to be difficult to store/remember, we want to make sure that all usernames are less than 7 characters long.  \n",
    "\n",
    "We can use another `if` statement to write the code as follows."
   ]
  },
  {
   "cell_type": "code",
   "execution_count": 183,
   "metadata": {},
   "outputs": [],
   "source": [
    "def valid_username(username):\n",
    "    if len(username) < 3:\n",
    "        return \"The username should be longer than 3 letters!\"\n",
    "    else:\n",
    "        if len(username) > 7:\n",
    "            return \"The username should be shorter than 7 letters!\"\n",
    "        else:\n",
    "            return \"Valid username\""
   ]
  },
  {
   "cell_type": "code",
   "execution_count": 184,
   "metadata": {},
   "outputs": [
    {
     "name": "stdout",
     "output_type": "stream",
     "text": [
      "The username should be longer than 3 letters!\n"
     ]
    }
   ],
   "source": [
    "print(valid_username(\"ok\"))"
   ]
  },
  {
   "cell_type": "code",
   "execution_count": 185,
   "metadata": {},
   "outputs": [
    {
     "name": "stdout",
     "output_type": "stream",
     "text": [
      "Valid username\n"
     ]
    }
   ],
   "source": [
    "print(valid_username(\"good\"))"
   ]
  },
  {
   "cell_type": "code",
   "execution_count": 186,
   "metadata": {},
   "outputs": [
    {
     "name": "stdout",
     "output_type": "stream",
     "text": [
      "The username should be shorter than 7 letters!\n"
     ]
    }
   ],
   "source": [
    "print(valid_username(\"terminator\"))"
   ]
  },
  {
   "cell_type": "markdown",
   "metadata": {},
   "source": [
    "Adding even more conditions will make the code pretty long and difficult to manage. Shouldn't python have some functionality to prevent this?\n",
    "\n",
    "Indeed it does. We can add something called an `elif` block. The `elif` block checks a condition after the `if` condition evaluates to `False`. "
   ]
  },
  {
   "cell_type": "code",
   "execution_count": 187,
   "metadata": {},
   "outputs": [],
   "source": [
    "def valid_username(username):\n",
    "    if len(username) < 3:\n",
    "        return \"The username should be longer than 3 letters!\"\n",
    "    elif len(username) > 7:\n",
    "        return \"The username should be shorter than 7 letters!\"\n",
    "    else:\n",
    "        return \"Valid username\""
   ]
  },
  {
   "cell_type": "code",
   "execution_count": 188,
   "metadata": {},
   "outputs": [
    {
     "name": "stdout",
     "output_type": "stream",
     "text": [
      "The username should be longer than 3 letters!\n"
     ]
    }
   ],
   "source": [
    "print(valid_username(\"ok\"))"
   ]
  },
  {
   "cell_type": "code",
   "execution_count": 189,
   "metadata": {},
   "outputs": [
    {
     "name": "stdout",
     "output_type": "stream",
     "text": [
      "Valid username\n"
     ]
    }
   ],
   "source": [
    "print(valid_username(\"good\"))"
   ]
  },
  {
   "cell_type": "code",
   "execution_count": 190,
   "metadata": {},
   "outputs": [
    {
     "name": "stdout",
     "output_type": "stream",
     "text": [
      "The username should be shorter than 7 letters!\n"
     ]
    }
   ],
   "source": [
    "print(valid_username(\"terminator\"))"
   ]
  },
  {
   "cell_type": "markdown",
   "metadata": {},
   "source": [
    "Here is an interesting thing, a return statement always exits the function. Thus, none of the code after a `return` statement will be executed.  \n",
    "Thus, we can omit the final `else` block with just a return statement and the function will operate in the same way as before."
   ]
  },
  {
   "cell_type": "code",
   "execution_count": 191,
   "metadata": {},
   "outputs": [],
   "source": [
    "def valid_username(username):\n",
    "    if len(username) < 3:\n",
    "        return \"The username should be longer than 3 letters!\"\n",
    "    elif len(username) > 7:\n",
    "        return \"The username should be shorter than 7 letters!\"\n",
    "    return \"Valid username\""
   ]
  },
  {
   "cell_type": "code",
   "execution_count": 192,
   "metadata": {},
   "outputs": [
    {
     "name": "stdout",
     "output_type": "stream",
     "text": [
      "The username should be longer than 3 letters!\n"
     ]
    }
   ],
   "source": [
    "print(valid_username(\"ok\"))"
   ]
  },
  {
   "cell_type": "code",
   "execution_count": 193,
   "metadata": {},
   "outputs": [
    {
     "name": "stdout",
     "output_type": "stream",
     "text": [
      "Valid username\n"
     ]
    }
   ],
   "source": [
    "print(valid_username(\"good\"))"
   ]
  },
  {
   "cell_type": "code",
   "execution_count": 194,
   "metadata": {},
   "outputs": [
    {
     "name": "stdout",
     "output_type": "stream",
     "text": [
      "The username should be shorter than 7 letters!\n"
     ]
    }
   ],
   "source": [
    "print(valid_username(\"terminator\"))"
   ]
  },
  {
   "cell_type": "markdown",
   "metadata": {},
   "source": [
    "## A note on code style\n",
    "\n",
    "Now that we have the syntax and basics of python out of the way. There is an important point to be discussed.  \n",
    "The style in which you write code will be defined by many things, but if you are starting out (which I assume as you are here), there are a few things that you can keep in mind to make things easier in the long run."
   ]
  },
  {
   "cell_type": "markdown",
   "metadata": {},
   "source": [
    "First and foremost, any code you write should be self-documenting (and self-explanatory).  \n",
    "Code is not only meant to be executed, but also be understandable and mainly readable.  \n",
    "Any code that you write will in future be worked upon by someone else or at least by you and you may have well forgotten what you were initially thinking when you wrote the piece of code.\n",
    "\n",
    "For instance, take a look at the two functions written below. Which one do you think is easier to understand on the first glance?"
   ]
  },
  {
   "cell_type": "code",
   "execution_count": 195,
   "metadata": {},
   "outputs": [
    {
     "name": "stdout",
     "output_type": "stream",
     "text": [
      "19.625\n"
     ]
    }
   ],
   "source": [
    "def calculate(r):\n",
    "    q = 3.14\n",
    "    z = q * ((r/2.0)** 2)\n",
    "    print(z)\n",
    "    \n",
    "calculate(5)"
   ]
  },
  {
   "cell_type": "code",
   "execution_count": 196,
   "metadata": {},
   "outputs": [
    {
     "name": "stdout",
     "output_type": "stream",
     "text": [
      "19.625\n"
     ]
    }
   ],
   "source": [
    "def circle_area(diameter):\n",
    "    pi = 3.14\n",
    "    radius = diameter/2.0\n",
    "    area = pi * (radius ** 2)\n",
    "    print(area)\n",
    "\n",
    "circle_area(5)"
   ]
  },
  {
   "cell_type": "markdown",
   "metadata": {},
   "source": [
    "Here are some tips to write code that is easily understandable and readable for everyone:\n",
    "- choose proper variable names that are related to the function they carry out\n",
    "- name your functions properly\n",
    "- refrain from writing complex pieces of code or equations until and unless it is necessary"
   ]
  },
  {
   "cell_type": "markdown",
   "metadata": {},
   "source": [
    "One final thing that you can do to help readers/developers understand you code is provide comments.  \n",
    "Comments in python are indicated by a hash (#)  \n",
    "Any line followed by a # is not executed by the python interpreter and is only present as a reference for the humans reading the code.\n",
    "\n",
    "For example:"
   ]
  },
  {
   "cell_type": "code",
   "execution_count": 197,
   "metadata": {},
   "outputs": [
    {
     "name": "stdout",
     "output_type": "stream",
     "text": [
      "78.5\n"
     ]
    }
   ],
   "source": [
    "# A function to calculate the area of a circle using its radius\n",
    "def circle_area(radius):\n",
    "    pi = 3.14\n",
    "    area = pi * (radius ** 2)\n",
    "    print(area)\n",
    "\n",
    "circle_area(5)"
   ]
  }
 ],
 "metadata": {
  "kernelspec": {
   "display_name": "Python 3",
   "language": "python",
   "name": "python3"
  },
  "language_info": {
   "codemirror_mode": {
    "name": "ipython",
    "version": 3
   },
   "file_extension": ".py",
   "mimetype": "text/x-python",
   "name": "python",
   "nbconvert_exporter": "python",
   "pygments_lexer": "ipython3",
   "version": "3.8.3"
  }
 },
 "nbformat": 4,
 "nbformat_minor": 4
}
